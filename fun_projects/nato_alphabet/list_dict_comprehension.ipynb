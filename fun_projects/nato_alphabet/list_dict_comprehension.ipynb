{
 "cells": [
  {
   "cell_type": "markdown",
   "id": "4afb5d94-5e2b-4d08-99d4-b43b9ae983c2",
   "metadata": {},
   "source": [
    "# List comprehension"
   ]
  },
  {
   "cell_type": "markdown",
   "id": "8730a499-a7cc-45b6-a5a3-a33ad300c8c0",
   "metadata": {},
   "source": [
    "## From a list"
   ]
  },
  {
   "cell_type": "code",
   "execution_count": 15,
   "id": "bcdb05a4-87ae-4f6c-bdf7-8631ee6f8a0e",
   "metadata": {},
   "outputs": [],
   "source": [
    "numbers = [1, 2, 3]\n",
    "new_numbers = [n + 1 for n in numbers]"
   ]
  },
  {
   "cell_type": "code",
   "execution_count": 16,
   "id": "37b2ee6d-44e0-4837-a8f1-eddb0d531c63",
   "metadata": {},
   "outputs": [
    {
     "name": "stdout",
     "output_type": "stream",
     "text": [
      "[2, 3, 4]\n"
     ]
    }
   ],
   "source": [
    "print(new_numbers)"
   ]
  },
  {
   "cell_type": "markdown",
   "id": "3a847085-4267-4cd1-9b2a-05fecbe7e8e4",
   "metadata": {},
   "source": [
    "## From a string"
   ]
  },
  {
   "cell_type": "code",
   "execution_count": 6,
   "id": "6c7483e9-def8-42b7-8819-e7e6aa13ab7f",
   "metadata": {},
   "outputs": [],
   "source": [
    "name = \"Robert\"\n",
    "letters_list = [letter for letter in name]"
   ]
  },
  {
   "cell_type": "code",
   "execution_count": 8,
   "id": "fd51a633-120d-4835-a020-3d8ae3caf97b",
   "metadata": {},
   "outputs": [
    {
     "name": "stdout",
     "output_type": "stream",
     "text": [
      "['R', 'o', 'b', 'e', 'r', 't']\n"
     ]
    }
   ],
   "source": [
    "print(letters_list)"
   ]
  },
  {
   "cell_type": "markdown",
   "id": "f53392b4-237f-4688-bf15-1d7f02543a19",
   "metadata": {},
   "source": [
    "## From a range"
   ]
  },
  {
   "cell_type": "code",
   "execution_count": 13,
   "id": "b4a39904-e900-466c-a501-b00eed571cfb",
   "metadata": {},
   "outputs": [],
   "source": [
    "range_list = [n * 2 for n in range(1, 5)]"
   ]
  },
  {
   "cell_type": "code",
   "execution_count": 14,
   "id": "4f2abb92-edf0-4450-a071-6103365bc08f",
   "metadata": {},
   "outputs": [
    {
     "name": "stdout",
     "output_type": "stream",
     "text": [
      "[2, 4, 6, 8]\n"
     ]
    }
   ],
   "source": [
    "print(range_list)"
   ]
  },
  {
   "cell_type": "markdown",
   "id": "a9e4e77a-fd77-4800-a22e-0e2164e25950",
   "metadata": {},
   "source": [
    "## With condition"
   ]
  },
  {
   "cell_type": "code",
   "execution_count": 21,
   "id": "0cdc6957-9042-40fc-8118-8a82d8c0f20c",
   "metadata": {},
   "outputs": [],
   "source": [
    "names = [\"Alex\", \"Beth\", \"Caroline\", \"Dave\", \"Eleanor\", \"Freddie\"]\n",
    "long_caps_names = [name.upper() for name in names if len(name) > 5]"
   ]
  },
  {
   "cell_type": "code",
   "execution_count": 22,
   "id": "afc47f3c-4a9a-44d3-a523-af490566e888",
   "metadata": {},
   "outputs": [
    {
     "name": "stdout",
     "output_type": "stream",
     "text": [
      "['CAROLINE', 'ELEANOR', 'FREDDIE']\n"
     ]
    }
   ],
   "source": [
    "print(long_caps_names)"
   ]
  },
  {
   "cell_type": "markdown",
   "id": "ffb52c17-de19-468b-ad04-f0975682bf6e",
   "metadata": {},
   "source": [
    "# Dictionary comprehension"
   ]
  },
  {
   "cell_type": "markdown",
   "id": "f3f5ecb8-7bf2-423f-bafa-cc8bbddf8162",
   "metadata": {},
   "source": [
    "Formula:\n",
    "new_dict = {new_key:new_value for item in list}"
   ]
  },
  {
   "cell_type": "code",
   "execution_count": 13,
   "id": "a53c7984-37bc-42f3-8bd6-fe2d6e9e5d01",
   "metadata": {},
   "outputs": [],
   "source": [
    "import random\n",
    "names = [\"Alex\", \"Beth\", \"Caroline\", \"Dave\", \"Eleanor\", \"Freddie\"]\n",
    "students_scores = {student:random.randint(1, 100) for student in names}"
   ]
  },
  {
   "cell_type": "code",
   "execution_count": 14,
   "id": "05f0bc9a-da1b-453b-904c-cd2e2c6e4362",
   "metadata": {},
   "outputs": [
    {
     "name": "stdout",
     "output_type": "stream",
     "text": [
      "Alex: 5\n",
      "Beth: 32\n",
      "Caroline: 18\n",
      "Dave: 51\n",
      "Eleanor: 26\n",
      "Freddie: 67\n"
     ]
    }
   ],
   "source": [
    "for (k, v) in students_scores.items():\n",
    "    print(f\"{k}: {v}\")"
   ]
  },
  {
   "cell_type": "markdown",
   "id": "6ed80b2c-8f30-42be-9e5d-890125e45ca6",
   "metadata": {},
   "source": [
    "# Conditional Dictionary comprehension"
   ]
  },
  {
   "cell_type": "markdown",
   "id": "95f162ea-79bd-4fbc-8787-3368db0888d0",
   "metadata": {},
   "source": [
    "Formula:\n",
    "new_dict = {new_key:new_value for (key, value) in dict.items() if test}"
   ]
  },
  {
   "cell_type": "code",
   "execution_count": 15,
   "id": "351c9a86-635c-4d77-8b6a-f31552a40671",
   "metadata": {},
   "outputs": [],
   "source": [
    "passed_students = {student: score for (student, score) in students_scores.items() if score > 60}"
   ]
  },
  {
   "cell_type": "code",
   "execution_count": 16,
   "id": "0c1a49de-4dd9-4241-a11b-838956f5f7db",
   "metadata": {},
   "outputs": [
    {
     "name": "stdout",
     "output_type": "stream",
     "text": [
      "Freddie: 67\n"
     ]
    }
   ],
   "source": [
    "for k, v in passed_students.items():\n",
    "    print(f\"{k}: {v}\")"
   ]
  },
  {
   "cell_type": "markdown",
   "id": "ff91658b-efee-48f4-a4ec-adcfa5628d1e",
   "metadata": {},
   "source": [
    "# Loop through rows in DataFrame"
   ]
  },
  {
   "cell_type": "markdown",
   "id": "9f17f231-7989-459c-a460-f2cf83019359",
   "metadata": {},
   "source": [
    "Create a dictionary:"
   ]
  },
  {
   "cell_type": "code",
   "execution_count": 2,
   "id": "822767f3-a2fe-4069-a228-2bf9b62f4e1a",
   "metadata": {},
   "outputs": [],
   "source": [
    "student_dict = {\"student\": [\"Bill\", \"John\", \"Jack\"], \"score\": [35, 25, 76]}"
   ]
  },
  {
   "cell_type": "markdown",
   "id": "dec2ed29-7442-47fe-a660-1644fb140eed",
   "metadata": {},
   "source": [
    "Convert the dict to the DataFrame object:"
   ]
  },
  {
   "cell_type": "code",
   "execution_count": 3,
   "id": "a510c733-feed-469e-bd5c-035a3d91ac4e",
   "metadata": {},
   "outputs": [
    {
     "name": "stdout",
     "output_type": "stream",
     "text": [
      "  student  score\n",
      "0    Bill     35\n",
      "1    John     25\n",
      "2    Jack     76\n"
     ]
    }
   ],
   "source": [
    "import pandas\n",
    "student_data_frame = pandas.DataFrame(student_dict)\n",
    "print(student_data_frame)"
   ]
  },
  {
   "cell_type": "markdown",
   "id": "9abb99cc-dc8c-4ac8-ab46-7c16e3059d31",
   "metadata": {},
   "source": [
    "Iterate through rows in the DataFrame:"
   ]
  },
  {
   "cell_type": "code",
   "execution_count": 4,
   "id": "2246482e-8392-4490-bb3b-fae68959c4db",
   "metadata": {},
   "outputs": [
    {
     "name": "stdout",
     "output_type": "stream",
     "text": [
      "0\n",
      "student    Bill\n",
      "score        35\n",
      "Name: 0, dtype: object\n",
      "\n",
      "1\n",
      "student    John\n",
      "score        25\n",
      "Name: 1, dtype: object\n",
      "\n",
      "2\n",
      "student    Jack\n",
      "score        76\n",
      "Name: 2, dtype: object\n",
      "\n"
     ]
    }
   ],
   "source": [
    "for (index, row) in student_data_frame.iterrows():\n",
    "    print(index)\n",
    "    print(row)\n",
    "    print()"
   ]
  },
  {
   "cell_type": "markdown",
   "id": "e5a7f33a-81dd-4dd2-9352-1372b7e174fb",
   "metadata": {},
   "source": [
    "Each of these rows is a pandas Series object. That means we can get a particular column using dot notation."
   ]
  },
  {
   "cell_type": "code",
   "execution_count": 5,
   "id": "cf195972-8db5-47cc-84c5-16171d4ea2bc",
   "metadata": {},
   "outputs": [
    {
     "name": "stdout",
     "output_type": "stream",
     "text": [
      "Bill\n",
      "John\n",
      "Jack\n"
     ]
    }
   ],
   "source": [
    "for (index, row) in student_data_frame.iterrows():\n",
    "    print(row.student)"
   ]
  },
  {
   "cell_type": "markdown",
   "id": "0cd4c228-4679-4e1a-9a23-271bbb65ba71",
   "metadata": {},
   "source": [
    "We can also use a condition to get the particular data:"
   ]
  },
  {
   "cell_type": "code",
   "execution_count": 6,
   "id": "d2f89ddd-bfdf-4936-9672-58cb6db23f3b",
   "metadata": {},
   "outputs": [
    {
     "name": "stdout",
     "output_type": "stream",
     "text": [
      "25\n"
     ]
    }
   ],
   "source": [
    "for (index, row) in student_data_frame.iterrows():\n",
    "    if row.student == \"John\":\n",
    "        print(row.score)"
   ]
  },
  {
   "cell_type": "markdown",
   "id": "c9a41afc-e926-4384-b2be-cc4d6441bfd8",
   "metadata": {},
   "source": [
    "# Dictionary comprehension from DataFrame"
   ]
  },
  {
   "cell_type": "markdown",
   "id": "633ec4c7-4ae0-4ea2-bab7-a12a28ba3f5d",
   "metadata": {},
   "source": [
    "Formula:\n",
    "new_dict = {new_key:new_value for (index, row) in df.iterrows()}"
   ]
  },
  {
   "cell_type": "code",
   "execution_count": 11,
   "id": "c50c342c-e08f-4543-92bf-bd92d3328630",
   "metadata": {},
   "outputs": [],
   "source": [
    "data_dict = {row.student:row.score for (index, row) in student_data_frame.iterrows()}"
   ]
  },
  {
   "cell_type": "code",
   "execution_count": 12,
   "id": "9ccf9315-3385-4563-81b2-3f98518d48c5",
   "metadata": {},
   "outputs": [
    {
     "name": "stdout",
     "output_type": "stream",
     "text": [
      "{'Bill': 35, 'John': 25, 'Jack': 76}\n"
     ]
    }
   ],
   "source": [
    "print(data_dict)"
   ]
  }
 ],
 "metadata": {
  "kernelspec": {
   "display_name": "Python 3 (ipykernel)",
   "language": "python",
   "name": "python3"
  },
  "language_info": {
   "codemirror_mode": {
    "name": "ipython",
    "version": 3
   },
   "file_extension": ".py",
   "mimetype": "text/x-python",
   "name": "python",
   "nbconvert_exporter": "python",
   "pygments_lexer": "ipython3",
   "version": "3.10.10"
  }
 },
 "nbformat": 4,
 "nbformat_minor": 5
}
