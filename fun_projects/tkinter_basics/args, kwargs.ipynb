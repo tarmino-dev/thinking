{
 "cells": [
  {
   "cell_type": "markdown",
   "id": "f8297107-2381-4e6d-a72e-facca2cf1947",
   "metadata": {},
   "source": [
    "# Unlimited positional arguments: args"
   ]
  },
  {
   "cell_type": "code",
   "execution_count": 3,
   "id": "4b7eaa47-0f36-4c0a-9d97-05c6065b92f3",
   "metadata": {},
   "outputs": [],
   "source": [
    "def add(*args):\n",
    "    sum = 0\n",
    "    for n in args:\n",
    "        sum += n\n",
    "    return sum"
   ]
  },
  {
   "cell_type": "code",
   "execution_count": 4,
   "id": "b1290d43-ac09-475f-af14-9cef1bf4866a",
   "metadata": {},
   "outputs": [
    {
     "name": "stdout",
     "output_type": "stream",
     "text": [
      "55\n"
     ]
    }
   ],
   "source": [
    "print(add(1, 2, 3, 4, 5, 6, 7, 8, 9, 10))"
   ]
  },
  {
   "cell_type": "markdown",
   "id": "3d7e199a-94e1-488e-81eb-7a503b05a36b",
   "metadata": {},
   "source": [
    "args is a tuple"
   ]
  },
  {
   "cell_type": "markdown",
   "id": "0660e0da-15eb-4470-9095-9cab5ed42412",
   "metadata": {},
   "source": [
    "# Unlimited keyword arguments: kwargs"
   ]
  },
  {
   "cell_type": "code",
   "execution_count": 2,
   "id": "188c14c8-de97-4486-b5b2-58c753fd3552",
   "metadata": {},
   "outputs": [],
   "source": [
    "def calculate(n, **kwargs):\n",
    "    n += kwargs[\"add\"]\n",
    "    n *= kwargs[\"multiply\"]\n",
    "    return n"
   ]
  },
  {
   "cell_type": "code",
   "execution_count": 3,
   "id": "047580b2-fe55-4875-9969-b38143b2371d",
   "metadata": {},
   "outputs": [
    {
     "name": "stdout",
     "output_type": "stream",
     "text": [
      "42\n"
     ]
    }
   ],
   "source": [
    "print(calculate(2, add=5, multiply=6))"
   ]
  },
  {
   "cell_type": "markdown",
   "id": "04feedad-80f6-4be4-9c56-edf6ef849bf7",
   "metadata": {},
   "source": [
    "kwargs is a dictionary"
   ]
  },
  {
   "cell_type": "markdown",
   "id": "685b27ea-8fdc-4fbf-8a1f-34ed709e0ed8",
   "metadata": {},
   "source": [
    "## Using kwargs for creating a class"
   ]
  },
  {
   "cell_type": "code",
   "execution_count": 9,
   "id": "ea9e112f-6e2b-4d1f-83f3-319aa1ff261a",
   "metadata": {},
   "outputs": [],
   "source": [
    "class Car:\n",
    "    def __init__(self, **kwargs):\n",
    "        self.make = kwargs.get(\"make\")\n",
    "        self.model = kwargs.get(\"model\")\n",
    "        self.color = kwargs.get(\"color\")\n",
    "        self.seats = kwargs.get(\"seats\", 5)"
   ]
  },
  {
   "cell_type": "markdown",
   "id": "6134fc91-c33a-412c-83c9-3f19671a657d",
   "metadata": {},
   "source": [
    "kwargs is a dictionary.\n",
    "The get() method returns the value of the item with the specified key.\n",
    "If the specified key does not exist, the get() method returns None or the second argement if it is passed."
   ]
  },
  {
   "cell_type": "code",
   "execution_count": 10,
   "id": "d7edc694-28e1-4220-b87d-11c8b867dca5",
   "metadata": {},
   "outputs": [
    {
     "name": "stdout",
     "output_type": "stream",
     "text": [
      "Nissan\n",
      "Skyline\n",
      "None\n",
      "5\n"
     ]
    }
   ],
   "source": [
    "my_car = Car(make=\"Nissan\", model=\"Skyline\")\n",
    "print(my_car.make)\n",
    "print(my_car.model)\n",
    "print(my_car.color)\n",
    "print(my_car.seats)"
   ]
  },
  {
   "cell_type": "code",
   "execution_count": null,
   "id": "5f152627-1690-4791-9b63-c7e539361bf1",
   "metadata": {},
   "outputs": [],
   "source": []
  }
 ],
 "metadata": {
  "kernelspec": {
   "display_name": "Python 3 (ipykernel)",
   "language": "python",
   "name": "python3"
  },
  "language_info": {
   "codemirror_mode": {
    "name": "ipython",
    "version": 3
   },
   "file_extension": ".py",
   "mimetype": "text/x-python",
   "name": "python",
   "nbconvert_exporter": "python",
   "pygments_lexer": "ipython3",
   "version": "3.10.10"
  }
 },
 "nbformat": 4,
 "nbformat_minor": 5
}
