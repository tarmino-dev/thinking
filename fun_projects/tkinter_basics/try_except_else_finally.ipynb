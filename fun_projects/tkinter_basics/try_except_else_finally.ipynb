{
 "cells": [
  {
   "cell_type": "markdown",
   "id": "976b530f-0ab6-42c7-bc6a-4301fb43a440",
   "metadata": {},
   "source": [
    "# Handling Exceptions"
   ]
  },
  {
   "cell_type": "markdown",
   "id": "1d54c24d-ced2-4cea-b6f3-f5aff0f3c97f",
   "metadata": {
    "jp-MarkdownHeadingCollapsed": true
   },
   "source": [
    "## Basic Syntax"
   ]
  },
  {
   "cell_type": "markdown",
   "id": "837fcaeb-ec09-4bd1-ad2e-7ba4089c15e0",
   "metadata": {},
   "source": [
    "try: something that might cause an exception"
   ]
  },
  {
   "cell_type": "markdown",
   "id": "544f9bb1-ba68-4ea4-b7bf-3aeb7947a730",
   "metadata": {},
   "source": [
    "except: do this if there was an exception"
   ]
  },
  {
   "cell_type": "markdown",
   "id": "9e1b94e8-ce22-4bff-91b4-750f1822e24f",
   "metadata": {},
   "source": [
    "else: do this if there were no exceptions"
   ]
  },
  {
   "cell_type": "markdown",
   "id": "50417b15-86ad-45f5-88b6-2b449d8b1ba2",
   "metadata": {},
   "source": [
    "finally: do this no matter what happens"
   ]
  },
  {
   "cell_type": "code",
   "execution_count": 7,
   "id": "fed54448-f37e-41a9-96f3-f2c662263848",
   "metadata": {},
   "outputs": [
    {
     "name": "stdout",
     "output_type": "stream",
     "text": [
      "File was closed\n"
     ]
    }
   ],
   "source": [
    "try:\n",
    "    file = open(\"a_file.txt\", \"r\") # Exception 1\n",
    "    a_dictionary = {\"key\": \"value\"}\n",
    "    print(a_dictionary[\"sdfsdf\"]) # Exception 2\n",
    "except FileNotFoundError:\n",
    "    file = open(\"a_file.txt\", \"w\")\n",
    "    file.write(\"Something\")\n",
    "# The KeyError is not caught on the first run because the FileNotFoundError occurs first and stops further execution within the try block.\n",
    "except KeyError as error_message:\n",
    "    print(f\"The key {error_message} does not exist.\")\n",
    "else:\n",
    "    content = file.read()\n",
    "    print(content)\n",
    "finally:\n",
    "    file.close()\n",
    "    print(\"File was closed\")"
   ]
  },
  {
   "cell_type": "markdown",
   "id": "d0094d07-8792-4e6b-961b-bcfffdfedefb",
   "metadata": {},
   "source": [
    "The KeyError is not caught on the first run because the FileNotFoundError occurs first and stops further execution within the try block. Let's run the same block of code once again."
   ]
  },
  {
   "cell_type": "code",
   "execution_count": 8,
   "id": "b477879c-f88b-4ff4-a582-4b8f9c80632e",
   "metadata": {},
   "outputs": [
    {
     "name": "stdout",
     "output_type": "stream",
     "text": [
      "The key 'sdfsdf' does not exist.\n",
      "File was closed\n"
     ]
    }
   ],
   "source": [
    "try:\n",
    "    file = open(\"a_file.txt\", \"r\") # Exception 1\n",
    "    a_dictionary = {\"key\": \"value\"}\n",
    "    print(a_dictionary[\"sdfsdf\"]) # Exception 2\n",
    "except FileNotFoundError:\n",
    "    file = open(\"a_file.txt\", \"w\")\n",
    "    file.write(\"Something\")\n",
    "# The KeyError is not caught on the first run because the FileNotFoundError occurs first and stops further execution within the try block.\n",
    "except KeyError as error_message:\n",
    "    print(f\"The key {error_message} does not exist.\")\n",
    "else:\n",
    "    content = file.read()\n",
    "    print(content)\n",
    "finally:\n",
    "    file.close()\n",
    "    print(\"File was closed\")"
   ]
  },
  {
   "cell_type": "markdown",
   "id": "57d6b565-e1db-4c88-9c60-67eb0419cd60",
   "metadata": {
    "jp-MarkdownHeadingCollapsed": true
   },
   "source": [
    "## Raising Exceptions"
   ]
  },
  {
   "cell_type": "code",
   "execution_count": 11,
   "id": "842e6437-14cd-4211-b6ee-aa7f1651d56c",
   "metadata": {},
   "outputs": [
    {
     "name": "stdin",
     "output_type": "stream",
     "text": [
      "Height:  4\n",
      "Weight:  2\n"
     ]
    },
    {
     "ename": "ValueError",
     "evalue": "Human height should not be over 3 meters.",
     "output_type": "error",
     "traceback": [
      "\u001b[0;31m---------------------------------------------------------------------------\u001b[0m",
      "\u001b[0;31mValueError\u001b[0m                                Traceback (most recent call last)",
      "Cell \u001b[0;32mIn[11], line 5\u001b[0m\n\u001b[1;32m      2\u001b[0m weight \u001b[38;5;241m=\u001b[39m \u001b[38;5;28mint\u001b[39m(\u001b[38;5;28minput\u001b[39m(\u001b[38;5;124m\"\u001b[39m\u001b[38;5;124mWeight: \u001b[39m\u001b[38;5;124m\"\u001b[39m))\n\u001b[1;32m      4\u001b[0m \u001b[38;5;28;01mif\u001b[39;00m height \u001b[38;5;241m>\u001b[39m \u001b[38;5;241m3\u001b[39m:\n\u001b[0;32m----> 5\u001b[0m     \u001b[38;5;28;01mraise\u001b[39;00m \u001b[38;5;167;01mValueError\u001b[39;00m(\u001b[38;5;124m\"\u001b[39m\u001b[38;5;124mHuman height should not be over 3 meters.\u001b[39m\u001b[38;5;124m\"\u001b[39m)\n\u001b[1;32m      7\u001b[0m bmi \u001b[38;5;241m=\u001b[39m weight \u001b[38;5;241m/\u001b[39m height \u001b[38;5;241m*\u001b[39m\u001b[38;5;241m*\u001b[39m \u001b[38;5;241m2\u001b[39m\n\u001b[1;32m      8\u001b[0m \u001b[38;5;28mprint\u001b[39m(bmi)\n",
      "\u001b[0;31mValueError\u001b[0m: Human height should not be over 3 meters."
     ]
    }
   ],
   "source": [
    "height = float(input(\"Height: \"))\n",
    "weight = int(input(\"Weight: \"))\n",
    "\n",
    "if height > 3:\n",
    "    raise ValueError(\"Human height should not be over 3 meters.\")\n",
    "\n",
    "bmi = weight / height ** 2\n",
    "print(bmi)"
   ]
  },
  {
   "cell_type": "code",
   "execution_count": null,
   "id": "d7172cac-e09e-42b7-b083-8fbda7cd901b",
   "metadata": {},
   "outputs": [],
   "source": []
  }
 ],
 "metadata": {
  "kernelspec": {
   "display_name": "Python 3 (ipykernel)",
   "language": "python",
   "name": "python3"
  },
  "language_info": {
   "codemirror_mode": {
    "name": "ipython",
    "version": 3
   },
   "file_extension": ".py",
   "mimetype": "text/x-python",
   "name": "python",
   "nbconvert_exporter": "python",
   "pygments_lexer": "ipython3",
   "version": "3.10.10"
  }
 },
 "nbformat": 4,
 "nbformat_minor": 5
}
