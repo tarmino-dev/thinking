{
 "cells": [
  {
   "cell_type": "markdown",
   "id": "641c0c61-2623-452b-8b13-c92a3a5ba66b",
   "metadata": {},
   "source": [
    "# Tkinter Geometry Managers: pack, place, grid"
   ]
  },
  {
   "cell_type": "markdown",
   "id": "e62af229-c998-4c5e-8895-55c13fca58ef",
   "metadata": {},
   "source": [
    "In Tkinter, widgets (like buttons, labels, etc.) need to be placed inside a window. Tkinter gives you three main ways to do that:"
   ]
  },
  {
   "cell_type": "markdown",
   "id": "51a98ceb-30f6-4959-be5f-c2e1c1faf1f6",
   "metadata": {
    "jp-MarkdownHeadingCollapsed": true
   },
   "source": [
    "## 1. pack()"
   ]
  },
  {
   "cell_type": "markdown",
   "id": "7fb0efc1-9844-45fd-9274-f4d2a6776a13",
   "metadata": {},
   "source": [
    "Arranges widgets in blocks before or after each other (top, bottom, left, right).\n",
    "Use when: You want simple vertical or horizontal stacking.\n",
    "Example:"
   ]
  },
  {
   "cell_type": "code",
   "execution_count": 2,
   "id": "34c556e7-54c0-402a-88bf-4188752c8911",
   "metadata": {},
   "outputs": [],
   "source": [
    "from tkinter import *\n",
    "\n",
    "root = Tk()\n",
    "\n",
    "btn1 = Button(root, text=\"Button 1\")\n",
    "btn1.pack(side=\"top\")\n",
    "\n",
    "btn2 = Button(root, text=\"Button 2\")\n",
    "btn2.pack(side=\"bottom\")\n",
    "\n",
    "root.mainloop()"
   ]
  },
  {
   "cell_type": "markdown",
   "id": "76f94d1f-3a1b-4c1a-ba86-4a3cb36bd46f",
   "metadata": {
    "jp-MarkdownHeadingCollapsed": true
   },
   "source": [
    "## 2. place()"
   ]
  },
  {
   "cell_type": "markdown",
   "id": "cf84d35a-dafe-475c-a231-fc39698243ac",
   "metadata": {},
   "source": [
    "Places widgets at an exact position (x, y).\n",
    "Use when: You want precise control over the location.\n",
    "Example:"
   ]
  },
  {
   "cell_type": "code",
   "execution_count": 3,
   "id": "c65e62ed-2b95-4697-a45d-00b061b79d5f",
   "metadata": {},
   "outputs": [],
   "source": [
    "from tkinter import *\n",
    "\n",
    "root = Tk()\n",
    "\n",
    "label = Label(root, text=\"Hello\")\n",
    "label.place(x=100, y=50)\n",
    "\n",
    "root.mainloop()"
   ]
  },
  {
   "cell_type": "markdown",
   "id": "ff5296a8-4076-4b43-a878-2a10192f296c",
   "metadata": {},
   "source": [
    "## 3. grid()"
   ]
  },
  {
   "cell_type": "markdown",
   "id": "30ec6c47-7ca6-4f26-999d-09d27791332d",
   "metadata": {},
   "source": [
    "Places widgets in a table-like (row, column) structure.\n",
    "Use when: You want organized layout like forms or tables.\n",
    "Example:"
   ]
  },
  {
   "cell_type": "code",
   "execution_count": 4,
   "id": "a049ccc4-a281-4525-92c6-a7563af79da8",
   "metadata": {},
   "outputs": [],
   "source": [
    "from tkinter import *\n",
    "\n",
    "root = Tk()\n",
    "\n",
    "label1 = Label(root, text=\"Username:\")\n",
    "label1.grid(row=0, column=0)\n",
    "\n",
    "entry1 = Entry(root)\n",
    "entry1.grid(row=0, column=1)\n",
    "\n",
    "root.mainloop()"
   ]
  },
  {
   "cell_type": "markdown",
   "id": "6e093a2f-384f-461b-8d09-e0638d3dde84",
   "metadata": {},
   "source": [
    "## Notes:"
   ]
  },
  {
   "cell_type": "markdown",
   "id": "816864d8-e62e-477a-ba3f-4262078d9dc7",
   "metadata": {},
   "source": [
    "Don't mix pack, place, and grid in the same container (like root or a Frame).\n",
    "You can use different geometry managers in different containers (Frames)."
   ]
  },
  {
   "cell_type": "code",
   "execution_count": null,
   "id": "7bc86a0d-c904-4cd9-a75c-47de0ebb92ef",
   "metadata": {},
   "outputs": [],
   "source": []
  }
 ],
 "metadata": {
  "kernelspec": {
   "display_name": "Python 3 (ipykernel)",
   "language": "python",
   "name": "python3"
  },
  "language_info": {
   "codemirror_mode": {
    "name": "ipython",
    "version": 3
   },
   "file_extension": ".py",
   "mimetype": "text/x-python",
   "name": "python",
   "nbconvert_exporter": "python",
   "pygments_lexer": "ipython3",
   "version": "3.10.10"
  }
 },
 "nbformat": 4,
 "nbformat_minor": 5
}
