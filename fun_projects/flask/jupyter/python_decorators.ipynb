{
 "cells": [
  {
   "cell_type": "markdown",
   "id": "45df4940-86ce-46a9-9f22-db5c02e34562",
   "metadata": {},
   "source": [
    "# Decorators with arguments"
   ]
  },
  {
   "cell_type": "code",
   "execution_count": 11,
   "id": "d76e66e7-9768-4244-88cf-4426248e447f",
   "metadata": {},
   "outputs": [
    {
     "name": "stdout",
     "output_type": "stream",
     "text": [
      "This is Bob's new blog post.\n"
     ]
    }
   ],
   "source": [
    "# Define a simple User class with a name and a login status\n",
    "class User:\n",
    "    def __init__(self, name):\n",
    "        self.name = name\n",
    "        self.is_logged_in = False  # By default, the user is not logged in\n",
    "\n",
    "# This is a decorator function that checks if the user is authenticated\n",
    "def is_authenticated_decorator(func):\n",
    "    def wrapper(*args, **kwargs):\n",
    "        # We assume the first argument is always a User instance\n",
    "        if args[0].is_logged_in == True:\n",
    "            return func(args[0])  # Only call the original function if the user is logged in\n",
    "    return wrapper  # Return the wrapper function\n",
    "\n",
    "# Apply the decorator to the blog post creation function\n",
    "@is_authenticated_decorator\n",
    "def create_blog_post(user):\n",
    "    print(f\"This is {user.name}'s new blog post.\")\n",
    "\n",
    "# Create a new user instance\n",
    "new_user = User(\"Bob\")\n",
    "\n",
    "# Simulate the user logging in\n",
    "new_user.is_logged_in = True\n",
    "\n",
    "# Try to create a blog post (will only work if the user is logged in)\n",
    "create_blog_post(new_user)"
   ]
  },
  {
   "cell_type": "code",
   "execution_count": 13,
   "id": "50d87c25-823f-41a3-9b48-ca81b28255de",
   "metadata": {},
   "outputs": [
    {
     "name": "stdout",
     "output_type": "stream",
     "text": [
      "You called a_function(1, 2, 3)\n",
      "It returned: 6\n"
     ]
    }
   ],
   "source": [
    "# TODO: Create the logging_decorator() function 👇\n",
    "\n",
    "def logging_decorator(func):\n",
    "    def wrapper(*args):\n",
    "        # You called a_function(1,2,3) \n",
    "        # It returned: 6 \n",
    "        res = func(*args)\n",
    "        print(f\"You called {func.__name__}{args}\")\n",
    "        print(f\"It returned: {res}\")\n",
    "    return wrapper\n",
    "\n",
    "# TODO: Use the decorator 👇\n",
    "@logging_decorator\n",
    "def a_function(*args):\n",
    "    return sum(args)\n",
    "    \n",
    "a_function(1,2,3)"
   ]
  },
  {
   "cell_type": "code",
   "execution_count": null,
   "id": "739f2b34-ed97-4033-8fa2-ea45d909cac7",
   "metadata": {},
   "outputs": [],
   "source": []
  }
 ],
 "metadata": {
  "kernelspec": {
   "display_name": "Python 3 (ipykernel)",
   "language": "python",
   "name": "python3"
  },
  "language_info": {
   "codemirror_mode": {
    "name": "ipython",
    "version": 3
   },
   "file_extension": ".py",
   "mimetype": "text/x-python",
   "name": "python",
   "nbconvert_exporter": "python",
   "pygments_lexer": "ipython3",
   "version": "3.10.10"
  }
 },
 "nbformat": 4,
 "nbformat_minor": 5
}
