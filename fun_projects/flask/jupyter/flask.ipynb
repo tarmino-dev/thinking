{
 "cells": [
  {
   "cell_type": "markdown",
   "id": "6c59ea4d-c72a-4408-8105-c0a5142bfc88",
   "metadata": {},
   "source": [
    "# How to use Flask"
   ]
  },
  {
   "cell_type": "markdown",
   "id": "c232ec92-3736-4c3d-8f4f-fcf27e3b8d15",
   "metadata": {
    "jp-MarkdownHeadingCollapsed": true
   },
   "source": [
    "## Running the Flask server"
   ]
  },
  {
   "cell_type": "markdown",
   "id": "d2fb62ab-0ab6-4949-95ef-e75be637149f",
   "metadata": {},
   "source": [
    "Put this code to your hello.py file:"
   ]
  },
  {
   "cell_type": "markdown",
   "id": "bb669e14-245e-4f11-8f02-67e18533f1b9",
   "metadata": {},
   "source": [
    "```\n",
    "from flask import Flask\n",
    "\n",
    "app = Flask(__name__)\n",
    "\n",
    "@app.route(\"/\")\n",
    "def hello_world():\n",
    "    return \"<p>Hello, World!</p>\"\n",
    "```"
   ]
  },
  {
   "cell_type": "markdown",
   "id": "1388af72-86e1-4d91-854f-01b785b60348",
   "metadata": {},
   "source": [
    "Navigate to the folder where the hello.py file is located.\n",
    "\n",
    "Run in console:\n",
    "\n",
    "`export FLASK_APP=hello.py`\n",
    "\n",
    "`flask run`\n",
    "\n",
    "or (recommended):\n",
    "\n",
    "`flask --app hello run`"
   ]
  },
  {
   "cell_type": "markdown",
   "id": "dfd6c519-5885-4565-8687-aa6c3735b778",
   "metadata": {},
   "source": [
    "If you add this in the end of your code file you can run the file hello.py with python command in console (e.g.: python hello.py):"
   ]
  },
  {
   "cell_type": "markdown",
   "id": "f887946c-d7b4-4788-ac3a-ee71f73ff12b",
   "metadata": {},
   "source": [
    "```\n",
    "if __name__ == \"__main__\":\n",
    "    app.run()\n",
    "```"
   ]
  },
  {
   "cell_type": "markdown",
   "id": "4b263aef-8c55-4127-bc06-fa8d3b8de099",
   "metadata": {},
   "source": [
    "Now you can also stop the server by pressing the Stop button in IDE."
   ]
  },
  {
   "cell_type": "markdown",
   "id": "be9ef5ab-c965-448d-9291-b3d9119f7913",
   "metadata": {},
   "source": [
    "Go to `http://127.0.0.1:5000/` in your browser to view the homepage."
   ]
  },
  {
   "cell_type": "markdown",
   "id": "82a56682-1db0-49a3-9e6e-c81463187a24",
   "metadata": {
    "jp-MarkdownHeadingCollapsed": true
   },
   "source": [
    "## Add page to website"
   ]
  },
  {
   "cell_type": "markdown",
   "id": "2617d4f6-4ac4-4007-b515-4748a0a0bc8e",
   "metadata": {},
   "source": [
    "Create another function in the code:"
   ]
  },
  {
   "cell_type": "markdown",
   "id": "dd4e78f0-f089-4120-a640-34905edb95b8",
   "metadata": {},
   "source": [
    "```\n",
    "@app.route(\"/bye\")\n",
    "def bye():\n",
    "    return \"<p>Bye!</p>\"\n",
    "```"
   ]
  },
  {
   "cell_type": "markdown",
   "id": "c55a9505-2658-4e9c-9cf5-f99188fd6d8d",
   "metadata": {},
   "source": [
    "This page is accessible by address `http://127.0.0.1:5000/bye`"
   ]
  },
  {
   "cell_type": "markdown",
   "id": "3b02bbb5-14dc-4b3e-a513-f7c36018d861",
   "metadata": {
    "jp-MarkdownHeadingCollapsed": true
   },
   "source": [
    "## Use variables in code"
   ]
  },
  {
   "cell_type": "markdown",
   "id": "511be637-55e7-4344-abce-2ab037e634ba",
   "metadata": {},
   "source": [
    "Create another function in the code:"
   ]
  },
  {
   "cell_type": "markdown",
   "id": "38b1dc4d-5286-4231-a325-91fb5d87a2c6",
   "metadata": {},
   "source": [
    "```\n",
    "@app.route(\"/username/<name>\")\n",
    "def greet(name):\n",
    "    return f\"Hello, {name}!\"\n",
    "```"
   ]
  },
  {
   "cell_type": "markdown",
   "id": "b8b57c8d-720a-468f-91b3-4c0da5cc2125",
   "metadata": {},
   "source": [
    "Go to `http://127.0.0.1:5000/username/Joe` in your browser to view the page that greets Joe."
   ]
  },
  {
   "cell_type": "markdown",
   "id": "b4523562-4efe-4ef8-a9a5-cbd653258a0d",
   "metadata": {
    "jp-MarkdownHeadingCollapsed": true
   },
   "source": [
    "## Debug mode"
   ]
  },
  {
   "cell_type": "markdown",
   "id": "61165b3a-f131-4632-8f2b-7d894ab157c0",
   "metadata": {},
   "source": [
    "Turn on the Debug mode:"
   ]
  },
  {
   "cell_type": "markdown",
   "id": "81cafac1-98b0-4761-94f1-c093e8ba9592",
   "metadata": {},
   "source": [
    "```\n",
    "if __name__ == \"__main__\":\n",
    "    app.run(debug=True)\n",
    "```"
   ]
  },
  {
   "cell_type": "markdown",
   "id": "529b5204-4857-4717-b8d2-cccab950d38f",
   "metadata": {},
   "source": [
    "See in your console something like this:"
   ]
  },
  {
   "cell_type": "markdown",
   "id": "46632b11-3a5b-406c-9837-95538803293a",
   "metadata": {},
   "source": [
    "```\n",
    "Debug mode: on\n",
    " * Running on http://127.0.0.1:5000\n",
    "Press CTRL+C to quit\n",
    " * Restarting with stat\n",
    " * Debugger is active!\n",
    " * Debugger PIN: 136-355-452\n",
    "```"
   ]
  },
  {
   "cell_type": "markdown",
   "id": "c9cb98a4-8397-4c37-a9bc-549252f7c02f",
   "metadata": {},
   "source": [
    "Now if you change your code, the server will detect the change and be reloaded. You may want to disable Autosave in your IDE to avoid reloading the server after modifying every character in your code."
   ]
  },
  {
   "cell_type": "markdown",
   "id": "7ddd8179-8f3b-4073-b9f3-a943a17cddda",
   "metadata": {
    "jp-MarkdownHeadingCollapsed": true
   },
   "source": [
    "## Slash as a part of variable"
   ]
  },
  {
   "cell_type": "markdown",
   "id": "e41530b9-d27a-4445-8b92-3bb24c996951",
   "metadata": {},
   "source": [
    "If you need to print on your page variable like \"Bob/1\" you can pass it this way:"
   ]
  },
  {
   "cell_type": "markdown",
   "id": "dd097d10-b40a-4941-ab39-6c135bd5f04f",
   "metadata": {},
   "source": [
    "```\n",
    "@app.route(\"/username/<path:name>\")\n",
    "def greet(name):\n",
    "    return f\"Hey, {name}!\"\n",
    "```"
   ]
  },
  {
   "cell_type": "markdown",
   "id": "3198ba81-796f-4718-a9dd-a7841c509cc0",
   "metadata": {},
   "source": [
    "Now if you go to `http://127.0.0.1:5000/username/Bob/1`, your page is going to show you `Hey, Bob/1!`"
   ]
  },
  {
   "cell_type": "markdown",
   "id": "d54ddb4c-0d5c-46f9-9201-f9e141e8f2e5",
   "metadata": {},
   "source": [
    "\"Bob/1\" in address line is interpreted literaly as a variable. Slash is not a devider in this case."
   ]
  },
  {
   "cell_type": "markdown",
   "id": "b2e7e964-7f9a-4737-b79f-3be86174655e",
   "metadata": {
    "jp-MarkdownHeadingCollapsed": true
   },
   "source": [
    "## Integer in URL"
   ]
  },
  {
   "cell_type": "markdown",
   "id": "84fa3b93-79ef-474c-910b-b0e3de916b2f",
   "metadata": {},
   "source": [
    "Parts of the URL may be also interpreted is integers."
   ]
  },
  {
   "cell_type": "markdown",
   "id": "47101bb6-faf2-4e47-a9f3-4b3d9973b4e2",
   "metadata": {},
   "source": [
    "```\n",
    "@app.route(\"/add/<int:a>/<int:b>\")\n",
    "def addition(a, b):\n",
    "    return f\"{a + b}\"\n",
    "```"
   ]
  },
  {
   "cell_type": "markdown",
   "id": "bc0b2831-c87c-4ee2-a290-a28be0058760",
   "metadata": {},
   "source": [
    "Now if you go to `http://127.0.0.1:5000/add/3/2`, your page is going to show you `5`"
   ]
  },
  {
   "cell_type": "markdown",
   "id": "204c8b1c-faae-44f7-af1e-22fb84e5fdb1",
   "metadata": {},
   "source": [
    "## Make text bold, emphasized, inserted"
   ]
  },
  {
   "cell_type": "markdown",
   "id": "5b8ad312-2e4e-4e72-bcc2-e1a5979a7bdc",
   "metadata": {},
   "source": [
    "Add some style to your page. Create a few decorator functions."
   ]
  },
  {
   "cell_type": "markdown",
   "id": "ebee8160-3be5-46a6-98fe-78c60db9bf47",
   "metadata": {},
   "source": [
    "```\n",
    "def make_bold(func):\n",
    "    def wrapper():\n",
    "        return f\"<b>{func()}</b>\"\n",
    "    return wrapper\n",
    "\n",
    "\n",
    "def make_emphasized(func):\n",
    "    def wrapper():\n",
    "        return f\"<em>{func()}</em>\"\n",
    "    return wrapper\n",
    "\n",
    "\n",
    "def make_inserted(func):\n",
    "    def wrapper():\n",
    "        return f\"<ins>{func()}</ins>\"\n",
    "    return wrapper\n",
    "```"
   ]
  },
  {
   "cell_type": "markdown",
   "id": "5584d30d-1d69-4f96-9b64-a08ff5b232f0",
   "metadata": {},
   "source": [
    "Apply decorators to your page function."
   ]
  },
  {
   "cell_type": "markdown",
   "id": "bc543fdc-b343-4158-b517-40bcd176ba0d",
   "metadata": {},
   "source": [
    "```\n",
    "@app.route(\"/bye\")\n",
    "@make_bold\n",
    "@make_emphasized\n",
    "@make_inserted\n",
    "def bye():\n",
    "    return \"<p>Bye!</p>\"\n",
    "```"
   ]
  },
  {
   "cell_type": "markdown",
   "id": "fa30229f-ca76-4417-a583-ef2beb46d2cc",
   "metadata": {},
   "source": []
  }
 ],
 "metadata": {
  "kernelspec": {
   "display_name": "Python 3 (ipykernel)",
   "language": "python",
   "name": "python3"
  },
  "language_info": {
   "codemirror_mode": {
    "name": "ipython",
    "version": 3
   },
   "file_extension": ".py",
   "mimetype": "text/x-python",
   "name": "python",
   "nbconvert_exporter": "python",
   "pygments_lexer": "ipython3",
   "version": "3.10.10"
  }
 },
 "nbformat": 4,
 "nbformat_minor": 5
}
