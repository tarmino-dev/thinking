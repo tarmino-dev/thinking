{
 "cells": [
  {
   "cell_type": "markdown",
   "id": "a0a6db83-16a1-42e3-bc29-6b14dff99d31",
   "metadata": {},
   "source": [
    "# CSV and Pandas"
   ]
  },
  {
   "cell_type": "code",
   "execution_count": 6,
   "id": "7620683d-d592-473b-b51c-862edca385c3",
   "metadata": {},
   "outputs": [
    {
     "name": "stdout",
     "output_type": "stream",
     "text": [
      "The history saving thread hit an unexpected error (OperationalError('attempt to write a readonly database')).History will not be written to the database.\n"
     ]
    }
   ],
   "source": [
    "import csv\n",
    "import pandas"
   ]
  },
  {
   "cell_type": "markdown",
   "id": "7bab3560-1b99-45b7-8260-31cf4fbe30b5",
   "metadata": {},
   "source": [
    "# Reading a file using built-in \"readlines\" method:"
   ]
  },
  {
   "cell_type": "code",
   "execution_count": 7,
   "id": "f8eb206e-9a34-4444-bd93-b4e997843b46",
   "metadata": {},
   "outputs": [
    {
     "name": "stdout",
     "output_type": "stream",
     "text": [
      "['day,temp,condition\\n', 'Monday,12,Sunny\\n', 'Tuesday,14,Rain\\n', 'Wednesday,15,Rain\\n', 'Thursday,14,Cloudy\\n', 'Friday,21,Sunny\\n', 'Saturday,22,Sunny\\n', 'Sunday,24,Sunny']\n"
     ]
    }
   ],
   "source": [
    "with open(\"./weather_data.csv\", mode=\"r\") as weather_file:\n",
    "    data = weather_file.readlines()\n",
    "print(data)"
   ]
  },
  {
   "cell_type": "markdown",
   "id": "130b88ed-e886-4158-8420-b9ffd565aed4",
   "metadata": {},
   "source": [
    "# Reading a file using built-in \"csv\" library and its \"reader\" method\n",
    "Note: \"data\" variable is available only within the \"with ... as\" block:"
   ]
  },
  {
   "cell_type": "code",
   "execution_count": 8,
   "id": "fb6168a2-3bc8-49cc-8cd0-7f67af68fd4a",
   "metadata": {},
   "outputs": [
    {
     "name": "stdout",
     "output_type": "stream",
     "text": [
      "<_csv.reader object at 0x10f8a2810>\n"
     ]
    }
   ],
   "source": [
    "with open(\"./weather_data.csv\", mode=\"r\") as weather_file:\n",
    "    data = csv.reader(weather_file)\n",
    "    print(data)  # \"data\" is a csv.reader object"
   ]
  },
  {
   "cell_type": "markdown",
   "id": "53852312-9bd1-4fea-b28f-7128c11d5fe4",
   "metadata": {},
   "source": [
    "# Reading a file using \"pandas\" library:"
   ]
  },
  {
   "cell_type": "code",
   "execution_count": 9,
   "id": "c14336a7-c5c8-4978-a6a0-ac70788deece",
   "metadata": {},
   "outputs": [
    {
     "name": "stdout",
     "output_type": "stream",
     "text": [
      "         day  temp condition\n",
      "0     Monday    12     Sunny\n",
      "1    Tuesday    14      Rain\n",
      "2  Wednesday    15      Rain\n",
      "3   Thursday    14    Cloudy\n",
      "4     Friday    21     Sunny\n",
      "5   Saturday    22     Sunny\n",
      "6     Sunday    24     Sunny\n"
     ]
    }
   ],
   "source": [
    "data = pandas.read_csv(\"./weather_data.csv\")\n",
    "print(data)"
   ]
  },
  {
   "cell_type": "code",
   "execution_count": 10,
   "id": "e1355448-3918-447a-93fc-d0be60aad2c7",
   "metadata": {},
   "outputs": [
    {
     "name": "stdout",
     "output_type": "stream",
     "text": [
      "<class 'pandas.core.frame.DataFrame'>\n"
     ]
    }
   ],
   "source": [
    "print(type(data))"
   ]
  },
  {
   "cell_type": "code",
   "execution_count": 11,
   "id": "b3669668-bb69-49df-928d-bcfaa2375338",
   "metadata": {},
   "outputs": [
    {
     "name": "stdout",
     "output_type": "stream",
     "text": [
      "0    12\n",
      "1    14\n",
      "2    15\n",
      "3    14\n",
      "4    21\n",
      "5    22\n",
      "6    24\n",
      "Name: temp, dtype: int64\n"
     ]
    }
   ],
   "source": [
    "print(data[\"temp\"])"
   ]
  },
  {
   "cell_type": "code",
   "execution_count": 12,
   "id": "4a2fa068-b885-46d8-8daa-f4b2c0b3fe7d",
   "metadata": {},
   "outputs": [
    {
     "name": "stdout",
     "output_type": "stream",
     "text": [
      "<class 'pandas.core.series.Series'>\n"
     ]
    }
   ],
   "source": [
    "print(type(data[\"temp\"]))"
   ]
  },
  {
   "cell_type": "markdown",
   "id": "638fb58c-6708-450b-b79d-8af06b9924c8",
   "metadata": {},
   "source": [
    "# Convert Dataframe to a dict"
   ]
  },
  {
   "cell_type": "code",
   "execution_count": 13,
   "id": "e9179e06-f14a-4ed6-a72c-edd71dd6ad0e",
   "metadata": {},
   "outputs": [
    {
     "name": "stdout",
     "output_type": "stream",
     "text": [
      "{'day': {0: 'Monday', 1: 'Tuesday', 2: 'Wednesday', 3: 'Thursday', 4: 'Friday', 5: 'Saturday', 6: 'Sunday'}, 'temp': {0: 12, 1: 14, 2: 15, 3: 14, 4: 21, 5: 22, 6: 24}, 'condition': {0: 'Sunny', 1: 'Rain', 2: 'Rain', 3: 'Cloudy', 4: 'Sunny', 5: 'Sunny', 6: 'Sunny'}}\n"
     ]
    }
   ],
   "source": [
    "data_dict = data.to_dict()\n",
    "print(data_dict)"
   ]
  },
  {
   "cell_type": "markdown",
   "id": "f9a8f77c-3365-4371-b437-8db9a014f086",
   "metadata": {},
   "source": [
    "# Convert Series to a list"
   ]
  },
  {
   "cell_type": "code",
   "execution_count": 14,
   "id": "55a95505-007f-4dd5-a62c-3a2e059917e4",
   "metadata": {},
   "outputs": [
    {
     "name": "stdout",
     "output_type": "stream",
     "text": [
      "[12, 14, 15, 14, 21, 22, 24]\n"
     ]
    }
   ],
   "source": [
    "temp_list = data[\"temp\"].to_list()\n",
    "print(temp_list)"
   ]
  },
  {
   "cell_type": "markdown",
   "id": "d948e9a9-114a-4b8c-9916-9e4bf894f198",
   "metadata": {},
   "source": [
    "# Average of a Series"
   ]
  },
  {
   "cell_type": "code",
   "execution_count": 15,
   "id": "6d621a1f-b086-442c-94d6-a8d6ea8b86b6",
   "metadata": {},
   "outputs": [
    {
     "name": "stdout",
     "output_type": "stream",
     "text": [
      "17.428571428571427\n"
     ]
    }
   ],
   "source": [
    "print(data[\"temp\"].mean())"
   ]
  },
  {
   "cell_type": "markdown",
   "id": "81dd49e1-ffbe-4ec1-a440-7b9ed0bcefe7",
   "metadata": {},
   "source": [
    "# Maximum of a Series"
   ]
  },
  {
   "cell_type": "code",
   "execution_count": 16,
   "id": "55d5532f-8c1d-4ee4-8f0a-735f56091e8f",
   "metadata": {},
   "outputs": [
    {
     "name": "stdout",
     "output_type": "stream",
     "text": [
      "24\n"
     ]
    }
   ],
   "source": [
    "print(data[\"temp\"].max())"
   ]
  },
  {
   "cell_type": "markdown",
   "id": "5b3a86eb-0906-4db2-8d64-10a803da333a",
   "metadata": {},
   "source": [
    "# Get data in column, way 1: like a dictionary"
   ]
  },
  {
   "cell_type": "code",
   "execution_count": 17,
   "id": "4006779e-8ebd-4708-af1a-7bf09a8db5c7",
   "metadata": {},
   "outputs": [
    {
     "name": "stdout",
     "output_type": "stream",
     "text": [
      "0     Sunny\n",
      "1      Rain\n",
      "2      Rain\n",
      "3    Cloudy\n",
      "4     Sunny\n",
      "5     Sunny\n",
      "6     Sunny\n",
      "Name: condition, dtype: object\n"
     ]
    }
   ],
   "source": [
    "print(data[\"condition\"])"
   ]
  },
  {
   "cell_type": "markdown",
   "id": "e9e53d63-cc7e-4829-8585-33617b975adf",
   "metadata": {},
   "source": [
    "# Get data in column, way 2: like an object"
   ]
  },
  {
   "cell_type": "code",
   "execution_count": 18,
   "id": "9588fff7-8f71-4a4a-95a4-3c325903b392",
   "metadata": {},
   "outputs": [
    {
     "name": "stdout",
     "output_type": "stream",
     "text": [
      "0     Sunny\n",
      "1      Rain\n",
      "2      Rain\n",
      "3    Cloudy\n",
      "4     Sunny\n",
      "5     Sunny\n",
      "6     Sunny\n",
      "Name: condition, dtype: object\n"
     ]
    }
   ],
   "source": [
    "print(data.condition)"
   ]
  },
  {
   "cell_type": "markdown",
   "id": "a577447b-5dc0-4fd1-91fc-a83a8c126615",
   "metadata": {},
   "source": [
    "# Get data in the \"Monday\" row"
   ]
  },
  {
   "cell_type": "code",
   "execution_count": 19,
   "id": "b6323b4c-df09-4e2f-88fa-883301dbbe6c",
   "metadata": {},
   "outputs": [
    {
     "name": "stdout",
     "output_type": "stream",
     "text": [
      "      day  temp condition\n",
      "0  Monday    12     Sunny\n"
     ]
    }
   ],
   "source": [
    "print(data[data.day == \"Monday\"])\n"
   ]
  },
  {
   "cell_type": "markdown",
   "id": "33c5e2bc-1721-4cc0-a8ae-18b248cc1ef2",
   "metadata": {},
   "source": [
    "# Get the row with the highest temperature"
   ]
  },
  {
   "cell_type": "code",
   "execution_count": 20,
   "id": "256cc1b7-e040-493e-b1da-22aeec74beb4",
   "metadata": {},
   "outputs": [
    {
     "name": "stdout",
     "output_type": "stream",
     "text": [
      "      day  temp condition\n",
      "6  Sunday    24     Sunny\n"
     ]
    }
   ],
   "source": [
    "print(data[data.temp == data.temp.max()])"
   ]
  },
  {
   "cell_type": "markdown",
   "id": "6cc5e8c0-ba4e-444a-856c-da7dd5e7a39e",
   "metadata": {},
   "source": [
    "# Create a new DataFrame \"monday\", which has only rows with \"Monday\" value in \"day\" column"
   ]
  },
  {
   "cell_type": "code",
   "execution_count": 21,
   "id": "cfd246c3-be5c-4c4a-a19b-09ff3a1a5a4f",
   "metadata": {},
   "outputs": [
    {
     "name": "stdout",
     "output_type": "stream",
     "text": [
      "      day  temp condition\n",
      "0  Monday    12     Sunny\n"
     ]
    }
   ],
   "source": [
    "monday = data[data.day == \"Monday\"]\n",
    "print(monday)"
   ]
  },
  {
   "cell_type": "markdown",
   "id": "5fed775b-48dd-46a6-a8c8-a20b40c51c50",
   "metadata": {},
   "source": [
    "In this case data.day == \"Monday\" creates a boolean mask, which is a Series object like [True, False, False, ..., True]. This boolean mask is passed to the \"data\" DataFrame. Finally we get a new DataFrame, which has only rows with \"Monday\" value in the \"day\" column."
   ]
  },
  {
   "cell_type": "markdown",
   "id": "202622a2-59ca-4d8f-9aab-b310c7aef710",
   "metadata": {},
   "source": [
    "# Get only the specific column (\"condition\") from the row (\"monday\")"
   ]
  },
  {
   "cell_type": "code",
   "execution_count": 22,
   "id": "61a9fd8e-8f91-4d4c-9cdd-3acea978e67b",
   "metadata": {},
   "outputs": [
    {
     "name": "stdout",
     "output_type": "stream",
     "text": [
      "0    Sunny\n",
      "Name: condition, dtype: object\n"
     ]
    }
   ],
   "source": [
    "print(monday.condition)"
   ]
  },
  {
   "cell_type": "markdown",
   "id": "5cc8ca7d-7754-46c1-8c28-9e0642c27956",
   "metadata": {},
   "source": [
    "# Get the temperature on Monday"
   ]
  },
  {
   "cell_type": "code",
   "execution_count": 23,
   "id": "e39e866f-7f81-4d8b-80a5-f4c8fc3a461e",
   "metadata": {},
   "outputs": [
    {
     "name": "stdout",
     "output_type": "stream",
     "text": [
      "12\n"
     ]
    }
   ],
   "source": [
    "monday_temp = monday.temp[0]\n",
    "print(monday_temp)"
   ]
  },
  {
   "cell_type": "markdown",
   "id": "01a2a645-1080-474a-a3d1-a5980a41990f",
   "metadata": {},
   "source": [
    "# Convert the temperature on Monday to Fahrenheit"
   ]
  },
  {
   "cell_type": "code",
   "execution_count": 24,
   "id": "267d90aa-03ad-4790-8dfc-c06a249b8d2a",
   "metadata": {},
   "outputs": [
    {
     "name": "stdout",
     "output_type": "stream",
     "text": [
      "53.6\n"
     ]
    }
   ],
   "source": [
    "monday_temp_F = monday_temp * 9/5 + 32\n",
    "print(monday_temp_F)"
   ]
  },
  {
   "cell_type": "markdown",
   "id": "b2e59e6a-0924-4e69-b585-953eefde3e4c",
   "metadata": {},
   "source": [
    "# Create a dataframe from scratch"
   ]
  },
  {
   "cell_type": "code",
   "execution_count": 25,
   "id": "7bf0f7ab-9bd2-4062-b74c-b0e933b26ec6",
   "metadata": {},
   "outputs": [
    {
     "name": "stdout",
     "output_type": "stream",
     "text": [
      "  students  scores\n",
      "0      Amy      76\n",
      "1    James      56\n",
      "2   Angela      65\n"
     ]
    }
   ],
   "source": [
    "data_dict = {\"students\": [\"Amy\", \"James\", \"Angela\"], \"scores\": [76, 56, 65]}\n",
    "data = pandas.DataFrame(data_dict)\n",
    "print(data)"
   ]
  },
  {
   "cell_type": "markdown",
   "id": "4187b12d-a6db-40cf-9192-b7043aec48d5",
   "metadata": {},
   "source": [
    "# Convert DataFrame to CSV and save it as a .csv file"
   ]
  },
  {
   "cell_type": "code",
   "execution_count": 26,
   "id": "03f60122-e01d-4b86-b467-f6d7c0f31f40",
   "metadata": {},
   "outputs": [],
   "source": [
    "data.to_csv(\"new_data.csv\")"
   ]
  }
 ],
 "metadata": {
  "kernelspec": {
   "display_name": "Python 3 (ipykernel)",
   "language": "python",
   "name": "python3"
  },
  "language_info": {
   "codemirror_mode": {
    "name": "ipython",
    "version": 3
   },
   "file_extension": ".py",
   "mimetype": "text/x-python",
   "name": "python",
   "nbconvert_exporter": "python",
   "pygments_lexer": "ipython3",
   "version": "3.10.10"
  }
 },
 "nbformat": 4,
 "nbformat_minor": 5
}
